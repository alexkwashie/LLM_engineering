{
 "cells": [
  {
   "cell_type": "code",
   "execution_count": 1,
   "id": "7b79a0e4-dd40-4084-a44f-bb43fab4b138",
   "metadata": {},
   "outputs": [],
   "source": [
    "# imports\n",
    "import requests\n",
    "from bs4 import BeautifulSoup\n",
    "from IPython.display import Markdown, display"
   ]
  },
  {
   "cell_type": "code",
   "execution_count": 2,
   "id": "bfa48ed7-9c32-4609-a1fc-328a40ef2ee2",
   "metadata": {},
   "outputs": [],
   "source": [
    "# constants\n",
    "\n",
    "OLLAMA_API = \"http://localhost:11434/api/chat\"\n",
    "HEADERS = {\"Content-Type\": \"application/json\"}\n",
    "MODEL = \"llama3.2\"\n",
    "\n",
    "messages = [\n",
    "    {\"role\": \"user\", \"content\": \"Describe some of the business applications of Generative AI\"}\n",
    "]"
   ]
  },
  {
   "cell_type": "code",
   "execution_count": 3,
   "id": "a5ab5fc0-5f51-45b6-a511-51a4edca2f6c",
   "metadata": {},
   "outputs": [
    {
     "name": "stdout",
     "output_type": "stream",
     "text": [
      "\u001b[?2026h\u001b[?25l\u001b[1Gpulling manifest ⠋ \u001b[K\u001b[?25h\u001b[?2026l\u001b[?2026h\u001b[?25l\u001b[1Gpulling manifest ⠙ \u001b[K\u001b[?25h\u001b[?2026l\u001b[?2026h\u001b[?25l\u001b[1Gpulling manifest ⠹ \u001b[K\u001b[?25h\u001b[?2026l\u001b[?2026h\u001b[?25l\u001b[1Gpulling manifest ⠸ \u001b[K\u001b[?25h\u001b[?2026l\u001b[?2026h\u001b[?25l\u001b[1Gpulling manifest ⠼ \u001b[K\u001b[?25h\u001b[?2026l\u001b[?2026h\u001b[?25l\u001b[1Gpulling manifest \u001b[K\n",
      "pulling dde5aa3fc5ff... 100% ▕████████████████▏ 2.0 GB                         \u001b[K\n",
      "pulling 966de95ca8a6... 100% ▕████████████████▏ 1.4 KB                         \u001b[K\n",
      "pulling fcc5a6bec9da... 100% ▕████████████████▏ 7.7 KB                         \u001b[K\n",
      "pulling a70ff7e570d9... 100% ▕████████████████▏ 6.0 KB                         \u001b[K\n",
      "pulling 56bb8bd477a5... 100% ▕████████████████▏   96 B                         \u001b[K\n",
      "pulling 34bb5ab01051... 100% ▕████████████████▏  561 B                         \u001b[K\n",
      "verifying sha256 digest \u001b[K\n",
      "writing manifest \u001b[K\n",
      "success \u001b[K\u001b[?25h\u001b[?2026l\n"
     ]
    }
   ],
   "source": [
    "!ollama pull llama3.2"
   ]
  },
  {
   "cell_type": "code",
   "execution_count": 14,
   "id": "dcc289d6-77fe-4f64-8f42-5283e87813a9",
   "metadata": {},
   "outputs": [],
   "source": [
    "#Create a system prompt\n",
    "system_prompt = \"You are an assistant that analyzes prompts of technical coding problems and \\\n",
    "return the correct anser to the question.\\\n",
    "Respond in markdown.\"\n",
    "\n",
    "def user_prompt_for(input_message):\n",
    "    user_prompt = f'{input_message}'\n",
    "    return user_prompt\n"
   ]
  },
  {
   "cell_type": "code",
   "execution_count": 15,
   "id": "81515323-4f3b-4cb6-92c7-f2a525345a8b",
   "metadata": {},
   "outputs": [],
   "source": [
    "# Get payload\n",
    "payload = {\n",
    "        \"model\": MODEL,\n",
    "        \"messages\": messages,\n",
    "        \"stream\": False\n",
    "    }"
   ]
  },
  {
   "cell_type": "code",
   "execution_count": 16,
   "id": "e5787880-4839-40f9-a724-48a4477bede5",
   "metadata": {},
   "outputs": [],
   "source": [
    "def get_chat_prompt(text):\n",
    "    return [\n",
    "        {\"role\": \"system\", \"content\": system_prompt},\n",
    "        {\"role\": \"user\", \"content\": user_prompt_for(text)}\n",
    "    ]"
   ]
  },
  {
   "cell_type": "code",
   "execution_count": 17,
   "id": "fecd053a-2e56-4729-8b5b-991e489059c0",
   "metadata": {},
   "outputs": [],
   "source": [
    "def returnAnswer(text):\n",
    "    \n",
    "    payload = {\n",
    "        \"model\": MODEL,\n",
    "        \"messages\": get_chat_prompt(text),\n",
    "        \"stream\": False\n",
    "    }  \n",
    "    \n",
    "    response = requests.post(OLLAMA_API, json=payload, headers=HEADERS)\n",
    "    return response.json()['message']['content']"
   ]
  },
  {
   "cell_type": "code",
   "execution_count": 18,
   "id": "0343051c-2cea-4738-a8a1-37f4782f78ea",
   "metadata": {},
   "outputs": [],
   "source": [
    "def output():\n",
    "    prompt = input(\"Enter Prompt: \")\n",
    "    print(\" \")\n",
    "    print(returnAnswer(prompt))\n",
    "    "
   ]
  },
  {
   "cell_type": "code",
   "execution_count": 19,
   "id": "244a944e-f63b-46bb-84e6-8324e35f766f",
   "metadata": {},
   "outputs": [
    {
     "name": "stdin",
     "output_type": "stream",
     "text": [
      "Enter Prompt:  write a forloop in c++\n"
     ]
    },
    {
     "name": "stdout",
     "output_type": "stream",
     "text": [
      " \n",
      "**C++ For Loop Example**\n",
      "=========================\n",
      "\n",
      "A `for` loop in C++ is used to iterate over a block of code repeatedly for a specified number of times.\n",
      "\n",
      "### Basic Syntax\n",
      "```cpp\n",
      "for (initialization; condition; increment/decrement) {\n",
      "    // code to be executed\n",
      "}\n",
      "```\n",
      "### Breakdown:\n",
      "\n",
      "*   **Initialization**: This is the expression that initializes the loop variable. It is typically used to set up the initial value for the loop.\n",
      "*   **Condition**: This is the expression that determines whether the loop continues or not. As long as the condition evaluates to `true`, the loop will continue to execute.\n",
      "*   **Increment/Decrement**: This is the expression that modifies the loop variable after each iteration.\n",
      "\n",
      "### Example Use Case:\n",
      "\n",
      "```cpp\n",
      "#include <iostream>\n",
      "\n",
      "int main() {\n",
      "    int numbers[] = {1, 2, 3, 4, 5};\n",
      "    int n = sizeof(numbers) / sizeof(numbers[0]);\n",
      "\n",
      "    for (int i = 0; i < n; i++) {\n",
      "        std::cout << numbers[i] << \" \";\n",
      "    }\n",
      "\n",
      "    return 0;\n",
      "}\n",
      "```\n",
      "\n",
      "In this example, the `for` loop is used to iterate over an array of integers. The initialization expression sets up the initial value of the loop variable `i` to 0, while the condition checks whether `i` is less than the size of the array (`n`). After each iteration, the increment expression increments `i` by 1.\n",
      "\n",
      "**Example with Increment and Decrement**\n",
      "```cpp\n",
      "#include <iostream>\n",
      "\n",
      "int main() {\n",
      "    int numbers[] = {1, 2, 3, 4, 5};\n",
      "    int n = sizeof(numbers) / sizeof(numbers[0]);\n",
      "\n",
      "    for (int i = 0; i < n; i++) {\n",
      "        std::cout << numbers[i] << \" \";\n",
      "\n",
      "        // increment expression\n",
      "        if (numbers[i] > 3)\n",
      "            numbers[i]++;\n",
      "\n",
      "        // decrement expression\n",
      "        if (numbers[i] == 5) numbers[i]--;\n",
      "    }\n",
      "\n",
      "    return 0;\n",
      "}\n",
      "```\n",
      "In this example, the loop variable `i` is modified using both an increment expression (`if (numbers[i] > 3) numbers[i]++;`) and a decrement expression (`if (numbers[i] == 5) numbers[i]--;`).\n"
     ]
    }
   ],
   "source": [
    "while output():\n",
    "    output()"
   ]
  },
  {
   "cell_type": "code",
   "execution_count": null,
   "id": "5e782457-7aff-4768-8b94-edfe7a859ac7",
   "metadata": {},
   "outputs": [],
   "source": []
  }
 ],
 "metadata": {
  "kernelspec": {
   "display_name": "Python 3 (ipykernel)",
   "language": "python",
   "name": "python3"
  },
  "language_info": {
   "codemirror_mode": {
    "name": "ipython",
    "version": 3
   },
   "file_extension": ".py",
   "mimetype": "text/x-python",
   "name": "python",
   "nbconvert_exporter": "python",
   "pygments_lexer": "ipython3",
   "version": "3.12.4"
  }
 },
 "nbformat": 4,
 "nbformat_minor": 5
}
