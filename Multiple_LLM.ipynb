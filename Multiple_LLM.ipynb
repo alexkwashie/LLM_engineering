{
 "cells": [
  {
   "cell_type": "code",
   "execution_count": 9,
   "id": "d7ef4a6c-e3cf-401c-a629-343d24a5c3f0",
   "metadata": {},
   "outputs": [],
   "source": [
    "import os\n",
    "import requests\n",
    "from bs4 import BeautifulSoup\n",
    "from typing import List\n",
    "from dotenv import load_dotenv\n",
    "from openai import OpenAI\n",
    "import gradio as gr"
   ]
  },
  {
   "cell_type": "code",
   "execution_count": 10,
   "id": "212ea711-6806-41fb-bd97-802450b58628",
   "metadata": {},
   "outputs": [
    {
     "name": "stdout",
     "output_type": "stream",
     "text": [
      "OpenAI API Key exists and begins sk-proj-\n",
      "\u001b[?2026h\u001b[?25l\u001b[1Gpulling manifest ⠋ \u001b[K\u001b[?25h\u001b[?2026l\u001b[?2026h\u001b[?25l\u001b[1Gpulling manifest ⠙ \u001b[K\u001b[?25h\u001b[?2026l\u001b[?2026h\u001b[?25l\u001b[1Gpulling manifest ⠹ \u001b[K\u001b[?25h\u001b[?2026l\u001b[?2026h\u001b[?25l\u001b[1Gpulling manifest ⠸ \u001b[K\u001b[?25h\u001b[?2026l\u001b[?2026h\u001b[?25l\u001b[1Gpulling manifest ⠼ \u001b[K\u001b[?25h\u001b[?2026l\u001b[?2026h\u001b[?25l\u001b[1Gpulling manifest ⠴ \u001b[K\u001b[?25h\u001b[?2026l\u001b[?2026h\u001b[?25l\u001b[1Gpulling manifest ⠦ \u001b[K\u001b[?25h\u001b[?2026l\u001b[?2026h\u001b[?25l\u001b[1Gpulling manifest ⠧ \u001b[K\u001b[?25h\u001b[?2026l\u001b[?2026h\u001b[?25l\u001b[1Gpulling manifest ⠇ \u001b[K\u001b[?25h\u001b[?2026l\u001b[?2026h\u001b[?25l\u001b[1Gpulling manifest \u001b[K\n",
      "pulling dde5aa3fc5ff... 100% ▕████████████████▏ 2.0 GB                         \u001b[K\n",
      "pulling 966de95ca8a6... 100% ▕████████████████▏ 1.4 KB                         \u001b[K\n",
      "pulling fcc5a6bec9da... 100% ▕████████████████▏ 7.7 KB                         \u001b[K\n",
      "pulling a70ff7e570d9... 100% ▕████████████████▏ 6.0 KB                         \u001b[K\n",
      "pulling 56bb8bd477a5... 100% ▕████████████████▏   96 B                         \u001b[K\n",
      "pulling 34bb5ab01051... 100% ▕████████████████▏  561 B                         \u001b[K\n",
      "verifying sha256 digest \u001b[K\n",
      "writing manifest \u001b[K\n",
      "success \u001b[K\u001b[?25h\u001b[?2026l\n"
     ]
    }
   ],
   "source": [
    "# Load environment variables in a file called .env\n",
    "# Print the key prefixes to help with any debugging\n",
    "\n",
    "load_dotenv(override=True)\n",
    "openai_api_key = os.getenv('OPENAI_API_KEY')\n",
    "\n",
    "\n",
    "OLLAMA_API = \"http://localhost:11434/api/chat\"\n",
    "HEADERS = {\"Content-Type\": \"application/json\"}\n",
    "MODEL = \"llama3.2\"\n",
    "\n",
    "\n",
    "if openai_api_key:\n",
    "    print(f\"OpenAI API Key exists and begins {openai_api_key[:8]}\")\n",
    "else:\n",
    "    print(\"OpenAI API Key not set\")\n",
    "\n",
    "!ollama pull llama3.2\n",
    "    "
   ]
  },
  {
   "cell_type": "code",
   "execution_count": 11,
   "id": "5ad7a5f4-e2c9-4e26-a49d-5243485e6ec2",
   "metadata": {},
   "outputs": [],
   "source": [
    "openai = OpenAI()\n",
    "system_message = \"You are a helpful assistant\"\n",
    "\n",
    "def user_prompt(input_message):\n",
    "    user_prompt = f'{input_message}'\n",
    "    return user_prompt"
   ]
  },
  {
   "cell_type": "code",
   "execution_count": 76,
   "id": "d819244a-bfb7-4e48-a3f9-c500e8f6ca84",
   "metadata": {},
   "outputs": [],
   "source": [
    "import requests\n",
    "import json\n",
    "\n",
    "def get_chat_prompt(text):\n",
    "    return [\n",
    "        {\"role\": \"system\", \"content\": system_message},\n",
    "        {\"role\": \"user\", \"content\": user_prompt(text)}\n",
    "    ]\n",
    "    \n",
    "def getllama(text):\n",
    "    payload = {\n",
    "        \"model\": MODEL,\n",
    "        \"messages\": get_chat_prompt(text),\n",
    "        \"stream\": True\n",
    "    }\n",
    "    response = requests.post(OLLAMA_API, json=payload, headers=HEADERS, stream=True)\n",
    "    for line in response.iter_lines():\n",
    "        if line:\n",
    "            try:\n",
    "                data = json.loads(line)\n",
    "                content = data.get('message', {}).get('content', '')\n",
    "                if content:\n",
    "                    yield content\n",
    "            except json.JSONDecodeError:\n",
    "                continue\n",
    "                \n",
    "def getchat_gpt(prompt):\n",
    "    messages = [\n",
    "        {\"role\": \"system\", \"content\": system_message},\n",
    "        {\"role\": \"user\", \"content\": prompt}\n",
    "      ]\n",
    "    stream = openai.chat.completions.create(\n",
    "        model='gpt-4o-mini',\n",
    "        messages=messages,\n",
    "        stream=True\n",
    "    )\n",
    "    result = \"\"\n",
    "    for chunk in stream:\n",
    "        result += chunk.choices[0].delta.content or \"\"\n",
    "        yield result"
   ]
  },
  {
   "cell_type": "code",
   "execution_count": 77,
   "id": "e0c5d731-e236-4cd2-be93-cc9f52cf155e",
   "metadata": {
    "scrolled": true
   },
   "outputs": [
    {
     "data": {
      "text/plain": [
       "<generator object getllama at 0x128d4f540>"
      ]
     },
     "execution_count": 77,
     "metadata": {},
     "output_type": "execute_result"
    }
   ],
   "source": [
    "getllama('what is python')"
   ]
  },
  {
   "cell_type": "code",
   "execution_count": 84,
   "id": "a37e427d-e894-42ab-ac35-bce9e69c6c32",
   "metadata": {},
   "outputs": [],
   "source": [
    "def stream_model(prompt, model):\n",
    "    accumulated_text = \"\"\n",
    "    \n",
    "    if model == \"llama\":\n",
    "        stream_gen = getllama(prompt)\n",
    "    elif model == \"Chat_gpt\":\n",
    "        stream_gen = getchat_gpt(prompt)\n",
    "    else:\n",
    "        raise ValueError(f\"Unknown model: {model}\")\n",
    "    \n",
    "    for text_chunk in stream_gen:\n",
    "        accumulated_text += text_chunk\n",
    "        yield accumulated_text "
   ]
  },
  {
   "cell_type": "code",
   "execution_count": 86,
   "id": "1e25530c-8aa6-4efe-9f63-500809aef9d9",
   "metadata": {},
   "outputs": [
    {
     "name": "stdout",
     "output_type": "stream",
     "text": [
      "* Running on local URL:  http://127.0.0.1:7894\n",
      "\n",
      "To create a public link, set `share=True` in `launch()`.\n"
     ]
    },
    {
     "data": {
      "text/html": [
       "<div><iframe src=\"http://127.0.0.1:7894/\" width=\"100%\" height=\"500\" allow=\"autoplay; camera; microphone; clipboard-read; clipboard-write;\" frameborder=\"0\" allowfullscreen></iframe></div>"
      ],
      "text/plain": [
       "<IPython.core.display.HTML object>"
      ]
     },
     "metadata": {},
     "output_type": "display_data"
    },
    {
     "data": {
      "text/plain": []
     },
     "execution_count": 86,
     "metadata": {},
     "output_type": "execute_result"
    },
    {
     "name": "stderr",
     "output_type": "stream",
     "text": [
      "Traceback (most recent call last):\n",
      "  File \"/Users/al/Desktop/LLM Engineering- Master AI, LLM/projects/llm_engineering/venv/lib/python3.12/site-packages/gradio/queueing.py\", line 625, in process_events\n",
      "    response = await route_utils.call_process_api(\n",
      "               ^^^^^^^^^^^^^^^^^^^^^^^^^^^^^^^^^^^\n",
      "  File \"/Users/al/Desktop/LLM Engineering- Master AI, LLM/projects/llm_engineering/venv/lib/python3.12/site-packages/gradio/route_utils.py\", line 322, in call_process_api\n",
      "    output = await app.get_blocks().process_api(\n",
      "             ^^^^^^^^^^^^^^^^^^^^^^^^^^^^^^^^^^^\n",
      "  File \"/Users/al/Desktop/LLM Engineering- Master AI, LLM/projects/llm_engineering/venv/lib/python3.12/site-packages/gradio/blocks.py\", line 2146, in process_api\n",
      "    data = await self.postprocess_data(block_fn, result[\"prediction\"], state)\n",
      "           ^^^^^^^^^^^^^^^^^^^^^^^^^^^^^^^^^^^^^^^^^^^^^^^^^^^^^^^^^^^^^^^^^^\n",
      "  File \"/Users/al/Desktop/LLM Engineering- Master AI, LLM/projects/llm_engineering/venv/lib/python3.12/site-packages/gradio/blocks.py\", line 1888, in postprocess_data\n",
      "    self.validate_outputs(block_fn, predictions)  # type: ignore\n",
      "    ^^^^^^^^^^^^^^^^^^^^^^^^^^^^^^^^^^^^^^^^^^^^\n",
      "  File \"/Users/al/Desktop/LLM Engineering- Master AI, LLM/projects/llm_engineering/venv/lib/python3.12/site-packages/gradio/blocks.py\", line 1843, in validate_outputs\n",
      "    raise ValueError(\n",
      "ValueError: A  function (stream_model) didn't return enough output values (needed: 2, returned: 1).\n",
      "    Output components:\n",
      "        [textbox, textbox]\n",
      "    Output values returned:\n",
      "        [\"Time\"]\n"
     ]
    }
   ],
   "source": [
    "view = gr.Interface(\n",
    "    fn=stream_model,\n",
    "    inputs=[\n",
    "        gr.Textbox(label=\"Your message:\", lines=3),\n",
    "        gr.Dropdown([\"llama\", \"Chat_gpt\"], label=\"Select model\", value=\"Chat_gpt\")\n",
    "    ],\n",
    "    outputs=gr.Textbox(label=\"Response:\", lines=10),\n",
    "    live=False,  # Don't auto-run while typing\n",
    "    flagging_mode=\"never\"\n",
    ")\n",
    "\n",
    "view.launch()"
   ]
  },
  {
   "cell_type": "code",
   "execution_count": null,
   "id": "a7d597ba-1c7d-4873-b2e5-bcec4645e4df",
   "metadata": {},
   "outputs": [],
   "source": []
  },
  {
   "cell_type": "code",
   "execution_count": null,
   "id": "3766acf6-c31c-41c1-bacd-db909dc243e5",
   "metadata": {},
   "outputs": [],
   "source": []
  }
 ],
 "metadata": {
  "kernelspec": {
   "display_name": "Python 3 (ipykernel)",
   "language": "python",
   "name": "python3"
  },
  "language_info": {
   "codemirror_mode": {
    "name": "ipython",
    "version": 3
   },
   "file_extension": ".py",
   "mimetype": "text/x-python",
   "name": "python",
   "nbconvert_exporter": "python",
   "pygments_lexer": "ipython3",
   "version": "3.12.4"
  }
 },
 "nbformat": 4,
 "nbformat_minor": 5
}
