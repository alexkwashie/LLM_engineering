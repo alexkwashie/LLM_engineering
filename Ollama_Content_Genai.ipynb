{
 "cells": [
  {
   "cell_type": "code",
   "execution_count": 1,
   "id": "ac50a90b-f989-49b9-bc3f-83a4c9077bbd",
   "metadata": {},
   "outputs": [],
   "source": [
    "# imports\n",
    "# If these fail, please check you're running from an 'activated' environment with (llms) in the command prompt\n",
    "\n",
    "import os\n",
    "import requests\n",
    "import json\n",
    "from typing import List\n",
    "from dotenv import load_dotenv\n",
    "from bs4 import BeautifulSoup\n",
    "from IPython.display import Markdown, display, update_display\n",
    "from openai import OpenAI"
   ]
  },
  {
   "cell_type": "code",
   "execution_count": 2,
   "id": "002791b3-7581-4c65-b7c4-3dfb5210e9f2",
   "metadata": {},
   "outputs": [
    {
     "name": "stdout",
     "output_type": "stream",
     "text": [
      "API key looks good so far\n"
     ]
    }
   ],
   "source": [
    "# Initialize and constants\n",
    "\n",
    "load_dotenv(override=True)\n",
    "api_key = os.getenv('OPENAI_API_KEY')\n",
    "\n",
    "if api_key and api_key.startswith('sk-proj-') and len(api_key)>10:\n",
    "    print(\"API key looks good so far\")\n",
    "else:\n",
    "    print(\"There might be a problem with your API key? Please visit the troubleshooting notebook!\")\n",
    "    \n",
    "MODEL = 'gpt-4o-mini'\n",
    "openai = OpenAI()"
   ]
  },
  {
   "cell_type": "code",
   "execution_count": 10,
   "id": "d3e55093-7cea-473e-b9d0-b99cef1440de",
   "metadata": {},
   "outputs": [],
   "source": [
    "# A class to represent a Webpage\n",
    "\n",
    "# Some websites need you to use proper headers when fetching them:\n",
    "headers = {\n",
    " \"User-Agent\": \"Mozilla/5.0 (Windows NT 10.0; Win64; x64) AppleWebKit/537.36 (KHTML, like Gecko) Chrome/117.0.0.0 Safari/537.36\"\n",
    "}\n",
    "\n",
    "class scrapeWebsite:\n",
    "    \"\"\"\n",
    "    A utility class to represent a Website that we have scraped, now with links\n",
    "    \"\"\"\n",
    "\n",
    "    def __init__(self, url):\n",
    "        self.url = url\n",
    "        response = requests.get(url, headers=headers)\n",
    "        self.body = response.content\n",
    "        soup = BeautifulSoup(self.body, 'html.parser')\n",
    "        self.title = soup.title.string if soup.title else \"No title found\"\n",
    "        if soup.body:\n",
    "            for irrelevant in soup.body([\"script\", \"style\", \"img\", \"input\"]):\n",
    "                irrelevant.decompose()\n",
    "            self.text = soup.body.get_text(separator=\"\\n\", strip=True)\n",
    "        else:\n",
    "            self.text = \"\"\n",
    "        links = [link.get('href') for link in soup.find_all('a')]\n",
    "        self.links = [link for link in links if link]\n",
    "\n",
    "    #get webpage Title and Page content\n",
    "    def get_contents(self):\n",
    "        return f\"Webpage Title:\\n{self.title}\\nWebpage Contents:\\n{self.text}\\n\\n\""
   ]
  },
  {
   "cell_type": "code",
   "execution_count": 11,
   "id": "58e574a0-751d-44b8-acb5-68842f80baa0",
   "metadata": {},
   "outputs": [],
   "source": [
    "link_system_prompt = \"You are provided with a list of links found on a webpage. \\\n",
    "You are able to decide which of the links would be most relevant to include in a childrens broucher about the company, \\\n",
    "such as links to an About page, or a Company page, or Careers/Jobs pages.\\n\"\n",
    "\n",
    "link_system_prompt += \"You should respond in JSON as in this example:\"\n",
    "link_system_prompt += \"\"\"\n",
    "{\n",
    "    \"links\": [\n",
    "        {\"type\": \"about page\", \"url\": \"https://full.url/goes/here/about\"},\n",
    "        {\"type\": \"careers page\": \"url\": \"https://another.full.url/careers\"}\n",
    "    ]\n",
    "}\n",
    "\"\"\""
   ]
  },
  {
   "cell_type": "code",
   "execution_count": 12,
   "id": "a9dc3b85-309b-411e-b18e-31aae06bdf74",
   "metadata": {},
   "outputs": [
    {
     "name": "stdout",
     "output_type": "stream",
     "text": [
      "You are provided with a list of links found on a webpage. You are able to decide which of the links would be most relevant to include in a childrens broucher about the company, such as links to an About page, or a Company page, or Careers/Jobs pages.\n",
      "You should respond in JSON as in this example:\n",
      "{\n",
      "    \"links\": [\n",
      "        {\"type\": \"about page\", \"url\": \"https://full.url/goes/here/about\"},\n",
      "        {\"type\": \"careers page\": \"url\": \"https://another.full.url/careers\"}\n",
      "    ]\n",
      "}\n",
      "\n"
     ]
    }
   ],
   "source": [
    "print(link_system_prompt)"
   ]
  },
  {
   "cell_type": "code",
   "execution_count": 16,
   "id": "c827a113-6335-4ebd-bf46-befc14cb57dc",
   "metadata": {},
   "outputs": [],
   "source": [
    "#Get Links User prompt\n",
    "\n",
    "def get_links_user_prompt(website):\n",
    "    user_prompt = f\"Here is the list of links on the website of {website.url} - \"\n",
    "    user_prompt += \"please decide which of these are relevant web links for a childrens brochure about the company, respond with the full https URL in JSON format. \\\n",
    "    Do not include Terms of Service, Contact, Privacy pages or links and email links.\\n\"\n",
    "    user_prompt += \"Links (some might be relative links):\\n\"\n",
    "    user_prompt += \"\\n\".join(website.links)\n",
    "    return user_prompt"
   ]
  },
  {
   "cell_type": "code",
   "execution_count": 20,
   "id": "1d149696-443f-4041-9701-8bbe3e710dd7",
   "metadata": {
    "scrolled": true
   },
   "outputs": [
    {
     "name": "stdout",
     "output_type": "stream",
     "text": [
      "Here is the list of links on the website of https://www.arla.com/ - please decide which of these are relevant web links for a childrens brochure about the company, respond with the full https URL in JSON format.     Do not include Terms of Service, Contact, Privacy pages or links and email links.\n",
      "Links (some might be relative links):\n",
      "/\n",
      "/\n",
      "/all-our-brands/\n",
      "/sustainability/\n",
      "/sustainability/the-food/\n",
      "/sustainability/the-packaging/\n",
      "/sustainability/the-transport/\n",
      "/sustainability/the-dairies/\n",
      "/sustainability/the-farms/\n",
      "/sustainability/the-cows/\n",
      "/sustainability/the-land/\n",
      "/sustainability/arlas-climate-ambition/\n",
      "/sustainability/lets-talk-about-dairy/\n",
      "/company/investor/annual-reports/\n",
      "/company/arla-farmers/farm-ahead/\n",
      "/company/\n",
      "/sustainability/\n",
      "/sustainability/the-farms/arlas-sustainability-incentive-model-qa/\n",
      "https://ec.europa.eu/clima/policies/international/negotiations/paris_en\n",
      "https://www.arla.com/company/news-and-press/2022/pressrelease/arla-doubles-co2e-target-for-operations/\n",
      "/sustainability/the-farms/how-arla-farmers-reduce-dairys-carbon-footprint/\n",
      "/sustainability/lets-talk-about-dairy/\n",
      "/company/news-and-press/2025/pressrelease/creating-the-future-of-dairy-arla-foods-and-dmk-group-announce-intention-to-merge/\n",
      "https://www.arla.com/company/news-and-press/2025/pressrelease/arla-foods-achieves-strong-financial-performance-in-2024/\n",
      "https://www.arla.com/company/news-and-press/2024/pressrelease/half-year-results-2024-arlas-robust-first-half-of-2024-is-paving-the-way-for-enhanced-sustainability-efforts/\n",
      "https://www.arla.com/company/news-and-press/2022/pressrelease/arla-earmarks-up-to-500-meur-annually-for-rewarding-climate-activities-on-farm/\n",
      "/company/farmer-owned/\n",
      "/articles/what-is-the-role-of-bacteria-in-yoghurt-and-fermented-milk-products/\n",
      "/articles/what-is-lactic-acid-fermentation-and-how-does-it-work/\n",
      "/articles/how-are-dairy-cows-treated/\n",
      "/articles/what-is-animal-welfare-in-milk-production/\n",
      "/articles/how-to-eat-more-sustainably/\n",
      "/articles/is-milk-good-for-you-info/\n",
      "/articles/can-you-drink-too-much-milk-info/\n",
      "/articles/are-plant-based-milk-alternatives-better-for-you-info/\n",
      "/articles/lactose-intolerance-cause-and-symptoms-info/\n",
      "/articles/what-is-milk-allergy-info/\n",
      "/articles/is-yogurt-healthy-info/\n",
      "/articles/milk-nutrition-facts-calcium-protein-and-calories-in-milk-info/\n",
      "/articles/what-is-lactose-free-milk-and-how-does-it-work/\n",
      "/articles/is-cheese-good-for-you-info/\n",
      "/articles/is-butter-healthy-info/\n",
      "/all-our-brands/\n",
      "/our-brands/arla-protein/\n",
      "/our-brands/arla-protein/\n",
      "/our-brands/arla-protein/\n",
      "/food-for-thought/\n",
      "/company/strategy/\n",
      "tel:+45 89 38 1000\n",
      "/contact/\n",
      "http://www.arlafoodsingredients.com/\n",
      "http://www.castellocheese.com/\n",
      "https://www.lurpak.com/en/\n",
      "/contact/arla-in-other-countries/\n",
      "https://www.facebook.com/arla\n",
      "https://www.instagram.com/inside_arla/?hl=en\n",
      "https://twitter.com/ArlaGroup\n",
      "https://www.linkedin.com/company/arla-foods?trk=top_nav_home\n",
      "#\n",
      "/legal-information/cookie-policy/\n",
      "/legal-information/standard-terms-of-website-use/\n",
      "/legal-information/privacy-policy/\n"
     ]
    }
   ],
   "source": [
    "pages = scrapeWebsite(\"https://www.arla.com/\")\n",
    "pages.links\n",
    "print(get_links_user_prompt(pages))"
   ]
  },
  {
   "cell_type": "code",
   "execution_count": 21,
   "id": "5c5f7392-1ed9-4ea7-8176-6ecd9f8e8033",
   "metadata": {},
   "outputs": [],
   "source": [
    "#Get Links from webpage\n",
    "\n",
    "def get_links(url):\n",
    "    website = scrapeWebsite(url)\n",
    "    response = openai.chat.completions.create(\n",
    "        model=MODEL,\n",
    "        messages=[\n",
    "            {\"role\": \"system\", \"content\": link_system_prompt},\n",
    "            {\"role\": \"user\", \"content\": get_links_user_prompt(website)}\n",
    "      ],\n",
    "        response_format={\"type\": \"json_object\"}\n",
    "    )\n",
    "    result = response.choices[0].message.content\n",
    "    return json.loads(result)"
   ]
  },
  {
   "cell_type": "code",
   "execution_count": 22,
   "id": "db41c6f9-a212-4744-bfee-27dbe6f5f537",
   "metadata": {},
   "outputs": [
    {
     "data": {
      "text/plain": [
       "{'links': [{'type': 'about page',\n",
       "   'url': 'https://www.yeovalley.co.uk/about-us'},\n",
       "  {'type': 'careers page', 'url': 'https://careers.yeovalley.co.uk/'},\n",
       "  {'type': 'come and visit us page',\n",
       "   'url': 'https://www.yeovalley.co.uk/come-and-visit-us'},\n",
       "  {'type': 'food range page',\n",
       "   'url': 'https://www.yeovalley.co.uk/our-food?range=little-yeos'},\n",
       "  {'type': 'blog about weaning',\n",
       "   'url': 'https://www.yeovalley.co.uk/blog/preparing-for-weaning-and-beyond'},\n",
       "  {'type': 'recipes page', 'url': 'https://www.yeovalley.co.uk/recipes'}]}"
      ]
     },
     "execution_count": 22,
     "metadata": {},
     "output_type": "execute_result"
    }
   ],
   "source": [
    "get_links(\"https://www.yeovalley.co.uk/\")"
   ]
  },
  {
   "cell_type": "markdown",
   "id": "802277f3-83df-4c5c-8484-dd6d0c05bf53",
   "metadata": {},
   "source": [
    "## Generate Broucher from page text"
   ]
  },
  {
   "cell_type": "code",
   "execution_count": 25,
   "id": "248587ba-5363-424b-b5f2-d490174c704c",
   "metadata": {},
   "outputs": [],
   "source": [
    "#gets each associated link, uses the scrape function to open lins and get page content\n",
    "def get_all_details(url):\n",
    "    result = \"Landing page:\\n\"\n",
    "    result += scrapeWebsite(url).get_contents()\n",
    "    links = get_links(url)\n",
    "    print(f\"Found links: {links}\")\n",
    "    for link in links[\"links\"]:\n",
    "        result += f\"\\n\\n{link['type']}\\n\"\n",
    "        result += scrapeWebsite(link[\"url\"]).get_contents()\n",
    "    return result"
   ]
  },
  {
   "cell_type": "code",
   "execution_count": 26,
   "id": "95d964ff-3520-40bf-b5f9-90c75ff64877",
   "metadata": {
    "scrolled": true
   },
   "outputs": [
    {
     "name": "stdout",
     "output_type": "stream",
     "text": [
      "Found links: {'links': [{'type': 'about page', 'url': 'https://www.yeovalley.co.uk/about-us'}, {'type': 'careers page', 'url': 'https://careers.yeovalley.co.uk/'}, {'type': 'visit us page', 'url': 'https://www.yeovalley.co.uk/come-and-visit-us'}, {'type': 'recipes page', 'url': 'https://www.yeovalley.co.uk/recipes'}, {'type': 'blog page', 'url': 'https://www.yeovalley.co.uk/blog'}, {'type': 'our food page', 'url': 'https://www.yeovalley.co.uk/our-food'}]}\n"
     ]
    },
    {
     "data": {
      "text/plain": [
       "'Landing page:\\nWebpage Title:\\nYeo Valley Organic\\nWebpage Contents:\\nSkip to main content\\nIn the valley\\nOur food\\nPlay and win\\nIn the valley\\nOur food\\nPlay and win\\nBank\\nSpend\\nWin\\nBank\\nSpend\\nWin\\nSign up / in\\nWe get nature, you get delicious\\nStart collecting\\nYeokens Today\\nbank\\nspend\\nwin\\nAlmost every Yeo Valley Organic product you buy comes with a special code that you can redeem online for Yeokens. Start collecting today!\\nSign Up / In Now\\nYeokens Yeokens Yeokens Yeokens Yeokens Yeokens Yeokens Yeokens Yeokens Yeokens Yeokens Yeokens\\nLatest from Yeo...\\nFlippin\\' Delicious\\nOur free-range organic grass-fed British steak beef burgers speak for themselves - tender, succulent, and bursting with flavour.\\nPreparing for weaning and beyond\\nPreparing for weaning can feel overwhelming, but watching your babies’ face as they take their first tastes and the joy that comes with this new and exciting experience is a lot of fun.\\nDoes Yeo Valley use feed additives?\\nYeo Valley Organic does not allow feed additives for the reduction of methane within our supply chain.\\nNice to Meet Yeo: Jade\\nMeet Jade, the newest member of the kitchen team at Yeo Valley!\\nIt\\'s Spring On The Farm\\nAll things spring, what\\'s happening on the farm and seasonal jobs that have to be done and a little information on how spring effects plants and the cows\\nDr Alice\\'s Top Nutritional Tips for Running\\nWhether you\\'re just starting out or training for a marathon, these tips are sure to help you get off on the right foot!\\nThink You Know Yeokens?\\nThis is all you need to know about our Yeokens scheme and any updates that have been happening recently to keep you in the loop!\\nWhat\\'s so good about Kefir?\\nWe started making our Yeo Valley Organic Kefir yogurt range in 2018 and it’s been a customer favourite ever since!\\nRegenerative and Organic, What\\'s the Difference?\\nOutlines the differences between Organic and Regenerative farming written by My Green Pod editor Katie Hill\\nA chance to win a Garmin Watch\\nEnter Yeokens codes found on special promotional pots of our Greek Recipe for your chance to win 1 of 13 Garmin Forerunner 165 running watches.\\nFind out more\\nOrganic Yogurt to Little Yeos\\nMade with the best of British organic dairy and fabulous fruits from near and far, there’s yogurt, milk, cream, butter and a whole lot more for you to try.\\nYogurt\\nKefir\\nLittle Yeos\\nMilk\\nCheese\\nButter\\nCream\\nFrozen\\nSoup\\nBeef\\nPlay, Win, Enjoy\\nPlay our games and you can win prizes... instantly!\\nDairy-Go-Round\\nMonthly Raffle\\nLittle Yeos Raffle\\nYeokens Yeokens Yeokens Yeokens Yeokens Yeokens Yeokens Yeokens Yeokens Yeokens Yeokens Yeokens\\nLatest Rewards\\n25% off at vurchoo jewelery\\nTaste the Adventure - Days Out\\n20% off tickets at the good food show summer\\nThis Month\\'s Featured Challenge\\nReceive a complimentary barista made drink at Caffè Nero when you bank three times.\\nSign Up / In To Enter\\nHand picked recipes\\nThe Classic Burger\\n20 mins\\nServes 2\\nBeginner\\nSpicy Kimchi Slaw\\n20 mins\\nServes 4\\nBeginner\\nV\\nClassic Burger Sauce\\n10 mins\\nServes 4\\nBeginner\\nV\\nCourgette Fries with Polenta\\n30 mins\\nServes 4\\nBeginner\\nV\\nSeasonal Greens Risotto\\n1 hr\\nServes 4\\nBeginner\\nV\\nHerby Yogurt Burger Sauce\\n10 mins\\nServes 4\\nBeginner\\nV\\nGut Loving Burger With Classic Slaw\\n30 mins\\nServes 2\\nBeginner\\nProtein Salad Bowl with Tahini Yogurt\\n45 mins\\nServes 2\\nBeginner\\nMilk Burger Buns\\n4 hr\\nServes 8\\nModerate\\nV\\nStrawberry and Rhubarb Sponge\\n1 hr 30 mins\\nServes 12\\nModerate\\nV\\nVisit Yeo\\nFrom tours of the farm, lunches in our HQ Canteen or days in our organic garden, we love to share this beautiful valley with as many people as possible. We are even hosting our first Organic Garden Festival in September! We can’t wait to meet you!\\nFind out more\\nYeo Valley Organic Limited, Yeo Valley HQ, Rhodyate, Blagdon, Bristol, BS40 7YE\\nCompany Registered in England and Wales with registered number 10743193\\nYeokens\\nOur Story\\nBlog\\nRecipes\\nVisit Yeo\\nRegen Farming\\nHelp\\nContact Us\\nUnsubscribe\\nPrivacy Policy\\nYeokens T&C\\'s\\nCookies Policy\\nPress\\nFamily of Businesses\\nCareers\\nYeo Ventures\\nModern Slavery Report\\nGender Pay Gap Report\\nTax Strategy\\nSection 172\\n\\n\\n\\nabout page\\nWebpage Title:\\nAbout Us - Yeo Valley Organic\\nWebpage Contents:\\nSkip to main content\\nIn the valley\\nOur food\\nPlay and win\\nIn the valley\\nOur food\\nPlay and win\\nBank\\nSpend\\nWin\\nBank\\nSpend\\nWin\\nSign up / in\\nA bit about us\\nCome rain or shine, we’ve been proudly making delicious organic food from the heart of the Somerset countryside for thirty years. After all, there’s no greater joy in life than eating well and nature is the best chef.\\nNice to meet Yeo\\nWelcome to the Valley. For thirty years, we’ve been enjoying the great outdoors in our home county of Somerset, making organic food for all to love. On our family farms, we believe in doing things the right way and you can taste it in our products. From our famously creamy organic yogurt and milk to our wholesome, hearty soups, every single one of our 150+ products is made with love, as tasty as nature intended.\\nDelicious is in our nature\\nWe’ve proudly supported regenerative organic farming since the very beginning, working in harmony with the land to help nature thrive. So, your family can delight in the very best flavour-packed goodness that local British pastures have to offer.\\nFind out More\\nNatural Healthy Food\\nOur organic dairy products taste great and are packed with vitamins and minerals that are beneficial in helping our bodies to function well, as part of a healthy balanced diet and lifestyle.\\xa0\\n\\nWe wanted to share the health benefits of milk, yogurt, cheese and the rest of our delicious products, and let you in on the facts about the wonderful world of organic dairy.\\nFind out more\\nOrganic at our roots\\nOur cows are celebrities around here and there’s also a VIP beneath their very hooves. One teaspoon of our soil has more microbes than there are people on the planet. But our soil’s real genius is how it locks carbon beneath the surface, making it one of the most effective tools we have in actively slowing climate change. Ground-breaking stuff…\\nOur Regen Project\\nRolling out the green carpet\\nWhen we’re not championing our soil, or rapping about how much we love our cows, we’re hosting all sorts of fun things for you to get stuck into. Cooking demos, art classes, farm tours and much more! Take a breezy stroll around our organic garden; seasoned gardening fans may even spot memories from our Gold-medal-winning RHS Chelsea Flower Show garden. And if all that fun works up an appetite, pop into our award-winning canteen to sample the best of what the Valley has to offer or head to our pub right in the heart of the village.\\nCan’t visit? Have fun online by putting the Yeokens you find on our packs towards goodies and giveaways, with some seriously snazzy prizes from partners we know and love.\\nFind out More\\nCelebrating 30 Years\\nNow we’re thirty years young, our Yeo Valley Organic team’s grown from our founders Roger and Mary Mead into a 1700-person-strong family: farmers, chefs, gardeners, engineers, cows… We’re as determined today as we’ve ever been to share our natural healthy food and create a more nourishing future for all of us. Come rain or shine, you’ll find us here on our family farms, enjoying delicious food from the heart of nature, forever.\\nFind out more\\nStart collecting\\nYeokens Today\\nbank\\nspend\\nwin\\nAlmost every Yeo Valley Organic product you buy comes with a special code that you can redeem online for Yeokens. Start collecting today!\\nSign Up / In Now\\nYeokens Yeokens Yeokens Yeokens Yeokens Yeokens Yeokens Yeokens Yeokens Yeokens Yeokens Yeokens\\nYeo Valley Organic Limited, Yeo Valley HQ, Rhodyate, Blagdon, Bristol, BS40 7YE\\nCompany Registered in England and Wales with registered number 10743193\\nYeokens\\nOur Story\\nBlog\\nRecipes\\nVisit Yeo\\nRegen Farming\\nHelp\\nContact Us\\nUnsubscribe\\nPrivacy Policy\\nYeokens T&C\\'s\\nCookies Policy\\nPress\\nFamily of Businesses\\nCareers\\nYeo Ventures\\nModern Slavery Report\\nGender Pay Gap Report\\nTax Strategy\\nSection 172\\n\\n\\n\\ncareers page\\nWebpage Title:\\n\\r\\n\\tPassionate People. Doing the right thing. - Yeo Valley Farms (Production) Ltd\\r\\n\\nWebpage Contents:\\nLogin\\nLogin with Facebook\\nLogin with Google\\nLogin with LinkedIn\\nOr\\nEmail Address:\\nEmail Address is a required field\\nPassword:\\nPassword is a required field\\nRemember username\\n* Required\\nForgot Password?\\nRegister for an account\\nHome\\nVacancies\\nAbout Us\\nWorking at Yeo\\nContact Us\\nSign In\\nLogin\\nLogin with Facebook\\nLogin with Google\\nLogin with LinkedIn\\nOr\\nEmail Address:\\nEmail Address is a required field\\nPassword:\\nPassword is a required field\\nRemember username\\n* Required\\nForgot Password?\\nRegister\\nHome\\nVacancies\\nAbout Us\\nWorking at Yeo\\nContact Us\\nPassionate People. Doing the right thing.\\nJoin our Family.\\nKeywords\\nLocation\\nSearch Jobs\\nWelcome to Yeo Valley Careers\\nWe’re always on the lookout for talented people to come and join us here in the Valley.\\nWe might be a group of businesses all owned by the Mead family, but we do things very differently here. Everyone who works with us is part of our family (all 1800 of us - well, it is the West Country after all..!).\\nWe’ve got 10 sites spanning 8 locations across Somerset, Devon, and most recently London, and we’ve got people doing all sorts of things, from hospitality and property management through to sales and marketing as well as technical, engineering and dairy operations roles.\\nOur Functions\\nHead Office\\n9\\nJobs\\nView Jobs\\nManufacturing\\n11\\nJobs\\nView Jobs\\nBusiness Support\\n1\\nJob\\nView Jobs\\nSupply Chain\\n0\\nJobs\\nView Jobs\\nTechnical\\n0\\nJobs\\nView Jobs\\nEngineering\\n2\\nJobs\\nView Jobs\\nLatest Jobs\\nLatest\\nSkilled Operator Fruit PM Shift\\nLocation\\nCrewkerne\\nPosition\\nProduction\\nAdvertising Salary\\n£27,977 p/a (£12,81 p/h)\\nAdvert Closing Date\\n11 May 2025\\nMore Info\\nLatest\\nSkilled Operator - Nights\\nLocation\\nCannington\\nPosition\\nOperations\\nAdvertising Salary\\n£30,685 P/A (£14.05 P/H)\\nAdvert Closing Date\\n01 May 2025\\nMore Info\\nLatest\\nSkilled Operator - Days\\nLocation\\nCannington\\nPosition\\nOperations\\nAdvertising Salary\\n£27,977 P/A (£12.81 P/H)\\nAdvert Closing Date\\n01 May 2025\\nMore Info\\nLatest\\nSenior Process Manager\\nLocation\\nHQ - Blagdon\\nPosition\\nDevelopment\\nAdvertising Salary\\nUp to £65,000 depending on experience\\nAdvert Closing Date\\n30 Apr 2025\\nMore Info\\nLatest\\nSkilled Production Operator - Nights\\nLocation\\nBlagdon\\nPosition\\nProduction\\nAdvertising Salary\\n£30,685.20 (£14.05 p/h)\\nAdvert Closing Date\\n11 May 2025\\nMore Info\\nLatest discussions\\nTweets by @yeovalley\\nCopyright\\xa0©\\xa02025\\r\\n                    Powered by\\nEploy\\n|\\nPrivacy Policy\\n\\n\\n\\nvisit us page\\nWebpage Title:\\nCome and Visit Us - Yeo Valley Organic\\nWebpage Contents:\\nSkip to main content\\nIn the valley\\nOur food\\nPlay and win\\nIn the valley\\nOur food\\nPlay and win\\nBank\\nSpend\\nWin\\nBank\\nSpend\\nWin\\nSign up / in\\nVisit Yeo\\nMake it a Yeo day out, from stunning valley tours, and meeting rooms for all, to delicious organic dishes being served in our HQ Staff Canteen. Fancy extending your visit? Then be our guest at one of our rural stays.\\nMake it a Yeo day out\\nEnjoy beautiful valley tours, strolls in our Organic Garden, or enjoy delicious meals at our HQ Staff Canteen. You can even join us for our very first Garden Festival from 18th to 20th September.\\nYeo Valley Organic Garden\\nHQ Staff Canteen\\nYeo Events\\nRural Stays\\nWhether it is for a romantic getaway, a family holiday or to get your friends together, our rural stays are the perfect setting to enjoy some time in the countryside.\\nFind Out More\\n@yeovalley\\nYeo Works\\nWhether it’s a conference for 100 to gather the herd, a pow-wow to bounce ideas off each other or a small meeting for 2, we’ve got plenty of spaces to make any meeting a cheerful one.\\nFind Out More\\nBank your Yeokens\\nOn nearly every pack of Yeo Valley Organic you\\'ll find a special code to redeem online for Yeokens. Spend your Yeokens on exciting rewards like days out in the valley, Yeo goodies, discounts and games with chances to win fabulous prizes.\\nBank Yeokens\\nHow to get here\\nPublic transport here leaves a lot to be desired, so you’d be best to come by car, bike or foot. We’re just 15 miles south of Bristol (off the A38).\\nYeo Valley HQ Staff Canteen\\nYeo Valley HQ,\\nRhodyate,\\nBristol\\nNorth Somerset\\n,\\nBS40 7YE\\nGet Directions\\nWhat3Words:\\n///\\ndodges.spoons.evoke\\nLost? Give us a call on\\n01761 462 798\\nYeo Valley Organic Garden & Events\\nYeo Valley Organic Garden\\nHolt Farm, Bath Road\\nBristol\\n,\\nBS40 7SQ\\nGet Directions\\nWhat3Words:\\n///\\ndevours.petal.tasteful\\nLost? Give us a call on\\n01761 462\\xa0798\\nYeo Valley Organic Limited, Yeo Valley HQ, Rhodyate, Blagdon, Bristol, BS40 7YE\\nCompany Registered in England and Wales with registered number 10743193\\nYeokens\\nOur Story\\nBlog\\nRecipes\\nVisit Yeo\\nRegen Farming\\nHelp\\nContact Us\\nUnsubscribe\\nPrivacy Policy\\nYeokens T&C\\'s\\nCookies Policy\\nPress\\nFamily of Businesses\\nCareers\\nYeo Ventures\\nModern Slavery Report\\nGender Pay Gap Report\\nTax Strategy\\nSection 172\\n\\n\\n\\nrecipes page\\nWebpage Title:\\nRecipes - Yeo Valley Organic\\nWebpage Contents:\\nSkip to main content\\nIn the valley\\nOur food\\nPlay and win\\nIn the valley\\nOur food\\nPlay and win\\nBank\\nSpend\\nWin\\nBank\\nSpend\\nWin\\nSign up / in\\nRecipes\\nThis Month\\'s Fave Recipe\\nGut Loving Burger With Classic Slaw\\n30 mins\\nServes 2\\nBeginner\\nHand picked recipes\\nThe Classic Burger\\n20 mins\\nServes 2\\nBeginner\\nSpicy Kimchi Slaw\\n20 mins\\nServes 4\\nBeginner\\nV\\nClassic Burger Sauce\\n10 mins\\nServes 4\\nBeginner\\nV\\nCourgette Fries with Polenta\\n30 mins\\nServes 4\\nBeginner\\nV\\nSeasonal Greens Risotto\\n1 hr\\nServes 4\\nBeginner\\nV\\nHerby Yogurt Burger Sauce\\n10 mins\\nServes 4\\nBeginner\\nV\\nGut Loving Burger With Classic Slaw\\n30 mins\\nServes 2\\nBeginner\\nProtein Salad Bowl with Tahini Yogurt\\n45 mins\\nServes 2\\nBeginner\\nMilk Burger Buns\\n4 hr\\nServes 8\\nModerate\\nV\\nStrawberry and Rhubarb Sponge\\n1 hr 30 mins\\nServes 12\\nModerate\\nV\\nRecipe Categories\\nAll\\nSeasonal\\nWhat\\'s Cooking\\nFeatured Product\\nDiet\\nSpecial Guests\\nNo results found!\\nPlease try another search term.\\nStart collecting\\nYeokens Today\\nbank\\nspend\\nwin\\nAlmost every Yeo Valley Organic product you buy comes with a special code that you can redeem online for Yeokens. Start collecting today!\\nSign Up / In Now\\nYeokens Yeokens Yeokens Yeokens Yeokens Yeokens Yeokens Yeokens Yeokens Yeokens Yeokens Yeokens\\nYeo Valley Organic Limited, Yeo Valley HQ, Rhodyate, Blagdon, Bristol, BS40 7YE\\nCompany Registered in England and Wales with registered number 10743193\\nYeokens\\nOur Story\\nBlog\\nRecipes\\nVisit Yeo\\nRegen Farming\\nHelp\\nContact Us\\nUnsubscribe\\nPrivacy Policy\\nYeokens T&C\\'s\\nCookies Policy\\nPress\\nFamily of Businesses\\nCareers\\nYeo Ventures\\nModern Slavery Report\\nGender Pay Gap Report\\nTax Strategy\\nSection 172\\n\\n\\n\\nblog page\\nWebpage Title:\\nBlog - Yeo Valley Organic\\nWebpage Contents:\\nSkip to main content\\nIn the valley\\nOur food\\nPlay and win\\nIn the valley\\nOur food\\nPlay and win\\nBank\\nSpend\\nWin\\nBank\\nSpend\\nWin\\nSign up / in\\nBlog\\nThis Month\\'s Featured Blog\\nFlippin\\' Delicious\\nLatest from Yeo...\\nFlippin\\' Delicious\\nOur free-range organic grass-fed British steak beef burgers speak for themselves - tender, succulent, and bursting with flavour.\\nPreparing for weaning and beyond\\nPreparing for weaning can feel overwhelming, but watching your babies’ face as they take their first tastes and the joy that comes with this new and exciting experience is a lot of fun.\\nDoes Yeo Valley use feed additives?\\nYeo Valley Organic does not allow feed additives for the reduction of methane within our supply chain.\\nNice to Meet Yeo: Jade\\nMeet Jade, the newest member of the kitchen team at Yeo Valley!\\nIt\\'s Spring On The Farm\\nAll things spring, what\\'s happening on the farm and seasonal jobs that have to be done and a little information on how spring effects plants and the cows\\nDr Alice\\'s Top Nutritional Tips for Running\\nWhether you\\'re just starting out or training for a marathon, these tips are sure to help you get off on the right foot!\\nThink You Know Yeokens?\\nThis is all you need to know about our Yeokens scheme and any updates that have been happening recently to keep you in the loop!\\nWhat\\'s so good about Kefir?\\nWe started making our Yeo Valley Organic Kefir yogurt range in 2018 and it’s been a customer favourite ever since!\\nRegenerative and Organic, What\\'s the Difference?\\nOutlines the differences between Organic and Regenerative farming written by My Green Pod editor Katie Hill\\nBlog Categories\\nAll\\nNews\\nHealth\\nNature\\nLittle Ones\\nTips & Tricks\\nIn the Valley\\nNo results found!\\nPlease try another search term.\\nStart collecting\\nYeokens Today\\nbank\\nspend\\nwin\\nAlmost every Yeo Valley Organic product you buy comes with a special code that you can redeem online for Yeokens. Start collecting today!\\nSign Up / In Now\\nYeokens Yeokens Yeokens Yeokens Yeokens Yeokens Yeokens Yeokens Yeokens Yeokens Yeokens Yeokens\\nYeo Valley Organic Limited, Yeo Valley HQ, Rhodyate, Blagdon, Bristol, BS40 7YE\\nCompany Registered in England and Wales with registered number 10743193\\nYeokens\\nOur Story\\nBlog\\nRecipes\\nVisit Yeo\\nRegen Farming\\nHelp\\nContact Us\\nUnsubscribe\\nPrivacy Policy\\nYeokens T&C\\'s\\nCookies Policy\\nPress\\nFamily of Businesses\\nCareers\\nYeo Ventures\\nModern Slavery Report\\nGender Pay Gap Report\\nTax Strategy\\nSection 172\\n\\n\\n\\nour food page\\nWebpage Title:\\nOur Food - Yeo Valley Organic\\nWebpage Contents:\\nSkip to main content\\nIn the valley\\nOur food\\nPlay and win\\nIn the valley\\nOur food\\nPlay and win\\nBank\\nSpend\\nWin\\nBank\\nSpend\\nWin\\nSign up / in\\nOur Food\\nYogurt\\nKefir\\nMilk\\nButter\\nCream\\nCheese\\nSoup\\nLittle Yeos\\nFrozen\\nBeef\\nYogurt\\nOrganic, British milk transformed into lusciously creamy live yogurt. We\\'re famous for it. Maybe you\\'re a fruit fan, maybe you prefer to keep things au naturel. We don\\'t judge.\\nProduct Subranges\\nEveryday\\nEveryday Fruited\\nGreek Recipe\\nEveryday\\nOrganic, British milk transformed into lusciously creamy natural live yogurt.\\nGreek Style Natural Yogurt\\n10\\n450g\\n950g\\n4 x 110g\\n150g\\nSizes\\nIngredients\\nNutritional\\nBuy Online\\nNatural Yogurt\\n10\\n450g\\n950g\\n4 x 110g\\n150g\\nSizes\\nIngredients\\nNutritional\\nBuy Online\\nNatural 0% Yogurt\\n10\\n450g\\n150g\\nSizes\\nIngredients\\nNutritional\\nBuy Online\\nGreek Style Natural Yogurt\\n10\\n450g\\n950g\\n4 x 110g\\n150g\\nSizes\\nIngredients\\nNutritional\\nBuy Online\\nNatural Yogurt\\n10\\n450g\\n950g\\n4 x 110g\\n150g\\nSizes\\nIngredients\\nNutritional\\nBuy Online\\nNatural 0% Yogurt\\n10\\n450g\\n150g\\nSizes\\nIngredients\\nNutritional\\nBuy Online\\nGreek Style Natural Yogurt\\n10\\n450g\\n950g\\n4 x 110g\\n150g\\nSizes\\nIngredients\\nNutritional\\nBuy Online\\nNatural Yogurt\\n10\\n450g\\n950g\\n4 x 110g\\n150g\\nSizes\\nIngredients\\nNutritional\\nBuy Online\\nNatural 0% Yogurt\\n10\\n450g\\n150g\\nSizes\\nIngredients\\nNutritional\\nBuy Online\\nGreek Style Natural Yogurt\\n10\\n450g\\n950g\\n4 x 110g\\n150g\\nSizes\\nIngredients\\nNutritional\\nBuy Online\\nNatural Yogurt\\n10\\n450g\\n950g\\n4 x 110g\\n150g\\nSizes\\nIngredients\\nNutritional\\nBuy Online\\nNatural 0% Yogurt\\n10\\n450g\\n150g\\nSizes\\nIngredients\\nNutritional\\nBuy Online\\nGreek Style Natural Yogurt\\n10\\n450g\\n950g\\n4 x 110g\\n150g\\nSizes\\nIngredients\\nNutritional\\nBuy Online\\nNatural Yogurt\\n10\\n450g\\n950g\\n4 x 110g\\n150g\\nSizes\\nIngredients\\nNutritional\\nBuy Online\\nNatural 0% Yogurt\\n10\\n450g\\n150g\\nSizes\\nIngredients\\nNutritional\\nBuy Online\\nGreek Style Natural Yogurt\\n10\\n450g\\n950g\\n4 x 110g\\n150g\\nSizes\\nIngredients\\nNutritional\\nBuy Online\\nEveryday Fruited\\nWell what is life, if you can\\'t get a little fruity every now and then?\\nBlack Cherry Yogurt\\n10\\n450g\\nSizes\\nIngredients\\nNutritional\\nBuy Online\\nFruity Favourites\\n10\\n4 x 110g\\nSizes\\nIngredients\\nNutritional\\nBuy Online\\nVanilla Yogurt 0%\\n10\\n450g\\nSizes\\nIngredients\\nNutritional\\nBuy Online\\nGreek Style with Honey\\n10\\n450g\\n4 x 100g\\nSizes\\nIngredients\\nNutritional\\nBuy Online\\nStrawberry Yogurt\\n10\\n450g\\n4 x 110g\\nSizes\\nIngredients\\nNutritional\\nBuy Online\\nRaspberry Yogurt\\n10\\n450g\\nSizes\\nIngredients\\nNutritional\\nBuy Online\\nLemon Curd Yogurt\\n10\\n450g\\n4 x 110g\\nSizes\\nIngredients\\nNutritional\\nBuy Online\\nBlueberry with a hint of Lime Yogurt\\n10\\n450g\\nSizes\\nIngredients\\nNutritional\\nBuy Online\\nPeach & Apricot Yogurt\\n10\\n450g\\nSizes\\nIngredients\\nNutritional\\nBuy Online\\nBlack Cherry Yogurt\\n10\\n450g\\nSizes\\nIngredients\\nNutritional\\nBuy Online\\nFruity Favourites\\n10\\n4 x 110g\\nSizes\\nIngredients\\nNutritional\\nBuy Online\\nVanilla Yogurt 0%\\n10\\n450g\\nSizes\\nIngredients\\nNutritional\\nBuy Online\\nGreek Style with Honey\\n10\\n450g\\n4 x 100g\\nSizes\\nIngredients\\nNutritional\\nBuy Online\\nStrawberry Yogurt\\n10\\n450g\\n4 x 110g\\nSizes\\nIngredients\\nNutritional\\nBuy Online\\nRaspberry Yogurt\\n10\\n450g\\nSizes\\nIngredients\\nNutritional\\nBuy Online\\nLemon Curd Yogurt\\n10\\n450g\\n4 x 110g\\nSizes\\nIngredients\\nNutritional\\nBuy Online\\nBlueberry with a hint of Lime Yogurt\\n10\\n450g\\nSizes\\nIngredients\\nNutritional\\nBuy Online\\nPeach & Apricot Yogurt\\n10\\n450g\\nSizes\\nIngredients\\nNutritional\\nBuy Online\\nBlack Cherry Yogurt\\n10\\n450g\\nSizes\\nIngredients\\nNutritional\\nBuy Online\\nFruity Favourites\\n10\\n4 x 110g\\nSizes\\nIngredients\\nNutritional\\nBuy Online\\nVanilla Yogurt 0%\\n10\\n450g\\nSizes\\nIngredients\\nNutritional\\nBuy Online\\nGreek Style with Honey\\n10\\n450g\\n4 x 100g\\nSizes\\nIngredients\\nNutritional\\nBuy Online\\nGreek Recipe\\nExtra creamy, extra thick, extra luxurious. Bringing a touch of Santorini to Somerset.\\nGreek Recipe Strawberry & Passionfruit\\n5\\n150g\\nSizes\\nIngredients\\nNutritional\\nBuy Online\\nGreek Recipe 0% Fat Natural\\n15\\n450g\\n850g\\nSizes\\nIngredients\\nNutritional\\nBuy Online\\nGreek Recipe 5% Fat Natural\\n15\\n450g\\n850g\\nSizes\\nIngredients\\nNutritional\\nBuy Online\\nGreek Recipe Strawberry & Passionfruit\\n5\\n150g\\nSizes\\nIngredients\\nNutritional\\nBuy Online\\nGreek Recipe 0% Fat Natural\\n15\\n450g\\n850g\\nSizes\\nIngredients\\nNutritional\\nBuy Online\\nGreek Recipe 5% Fat Natural\\n15\\n450g\\n850g\\nSizes\\nIngredients\\nNutritional\\nBuy Online\\nGreek Recipe Strawberry & Passionfruit\\n5\\n150g\\nSizes\\nIngredients\\nNutritional\\nBuy Online\\nGreek Recipe 0% Fat Natural\\n15\\n450g\\n850g\\nSizes\\nIngredients\\nNutritional\\nBuy Online\\nGreek Recipe 5% Fat Natural\\n15\\n450g\\n850g\\nSizes\\nIngredients\\nNutritional\\nBuy Online\\nGreek Recipe Strawberry & Passionfruit\\n5\\n150g\\nSizes\\nIngredients\\nNutritional\\nBuy Online\\nGreek Recipe 0% Fat Natural\\n15\\n450g\\n850g\\nSizes\\nIngredients\\nNutritional\\nBuy Online\\nGreek Recipe 5% Fat Natural\\n15\\n450g\\n850g\\nSizes\\nIngredients\\nNutritional\\nBuy Online\\nGreek Recipe Strawberry & Passionfruit\\n5\\n150g\\nSizes\\nIngredients\\nNutritional\\nBuy Online\\nGreek Recipe 0% Fat Natural\\n15\\n450g\\n850g\\nSizes\\nIngredients\\nNutritional\\nBuy Online\\nGreek Recipe 5% Fat Natural\\n15\\n450g\\n850g\\nSizes\\nIngredients\\nNutritional\\nBuy Online\\nGreek Recipe Strawberry & Passionfruit\\n5\\n150g\\nSizes\\nIngredients\\nNutritional\\nBuy Online\\nBank Your Yeokens\\nDon\\'t forget, there\\'s a special code on almost every pack of Yeo Valley Organic products which you can bank, spend on discounts and days out, plus win prizes!\\nBank Yeokens\\nYogurt Related Blogs\\nHow To Fight Food Waste In Your Fridge\\nHow to reduce foodwaste at home 3 top tips\\nWhat are the benefits of organic dairy?\\nWe are often asked \"Why should I chose organic?\" So here we\\'ve put together a list of the benefits of Organic dairy\\nFrom Natural to Greek Style, which yogurt is right for me?\\nLucy Williamson gives the lowdown on which Yeo Valley yogurt is right for you and your needs outlining their nutritional value\\nIt\\'s all about the Yogurt\\nLucy Williamson explains why Yeo Valley is a healthy food choice breaking down how being organic increases the various nutritional values of our products (explination of fats, sugars, calcium,and gut health)\\nA Healthy Start\\nEva Humphries explains the benefits of starting your day with organic natural yogurt for breakfast.\\nYogurt Storage Tips\\nTips for yogurt storage including beeswax wraps, Tupperware, and storing in the back of the fridge to avoid temperature change\\nOur Top Tips For Reducing Food Waste\\nTop tips for reducing food waste\\nA Healthy Start To Your Day\\nYeo Valley Organic Natural Yogurt\\nHow to use up the last dollop of Yogurt\\nHow to use up the left overs of each of our different types of yogurt, Includes Yeo recipes\\nFeatured Recipes\\nChicken Satay Sticks\\n1 hr\\nServes 6\\nBeginner\\nMoroccan Chicken\\n4 hr\\nServes 4\\nBeginner\\nBerry Crunch Breakfast\\n15 mins\\nServes 4\\nBeginner\\nV\\nButternut Squash & Pancetta Soup\\n30 mins\\nServes 4\\nBeginner\\nGF\\nGrilled Courgette Creamy Cheddar Pesto Rolls with a Green Salad\\n20 mins\\nServes 2\\nBeginner\\nV, GF\\nGreen Shakshuka\\n15 mins\\nServes 2\\nBeginner\\nV\\nStrawberry Yogurt Cake with Strawberry Yogurt Icing\\n1 hr 45 mins\\nServes 8\\nBeginner\\nV\\nCarrot Cake with Yogurt Drizzle\\n1 hr\\nServes 4\\nBeginner\\nPan Fried Scallops with Lime & Honey Dressing\\n15 mins\\nServes 2\\nBeginner\\nVisit Yeo\\nFrom tours of the farm, lunches in our HQ Canteen or days in our organic garden, we love to share this beautiful valley with as many people as possible. We can’t wait to meet you!\\nFind out More\\nYeo Valley Organic Limited, Yeo Valley HQ, Rhodyate, Blagdon, Bristol, BS40 7YE\\nCompany Registered in England and Wales with registered number 10743193\\nYeokens\\nOur Story\\nBlog\\nRecipes\\nVisit Yeo\\nRegen Farming\\nHelp\\nContact Us\\nUnsubscribe\\nPrivacy Policy\\nYeokens T&C\\'s\\nCookies Policy\\nPress\\nFamily of Businesses\\nCareers\\nYeo Ventures\\nModern Slavery Report\\nGender Pay Gap Report\\nTax Strategy\\nSection 172\\n\\n'"
      ]
     },
     "execution_count": 26,
     "metadata": {},
     "output_type": "execute_result"
    }
   ],
   "source": [
    "get_all_details(\"https://www.yeovalley.co.uk/\")"
   ]
  },
  {
   "cell_type": "code",
   "execution_count": 32,
   "id": "fbff336c-57ad-4dc9-907a-48beffa8f3e0",
   "metadata": {},
   "outputs": [],
   "source": [
    "# Main System prompt to create broucher\n",
    "system_prompt = \"You are an assistant that analyzes the contents of several relevant pages from a company website \\\n",
    "and creates a short childrens brochure about the company for prospective customers, investors and recruits. Respond in markdown.\\\n",
    "Include details of company culture, customers and careers/jobs if you have the information.\"\n",
    "\n",
    "system_prompt_French = \"You are an French language assistant that analyzes the contents of several relevant pages from a company website \\\n",
    "and creates a short childrens brochure about the company for prospective customers, investors and recruits in French. Respond in markdown.\\\n",
    "Include details of company culture, customers and careers/jobs if you have the information.\""
   ]
  },
  {
   "cell_type": "code",
   "execution_count": 35,
   "id": "e00fb280-da52-4aa3-9d21-fe9bd9cf6ef4",
   "metadata": {},
   "outputs": [],
   "source": [
    "def get_brochure_user_prompt(company_name, url):\n",
    "    user_prompt = f\"You are looking at a company called: {company_name}\\n\"\n",
    "    user_prompt += f\"Here are the contents of its landing page and other relevant pages; use this information to build a short childrens brochure of the company in markdown.\\n\"\n",
    "    user_prompt += get_all_details(url)\n",
    "    user_prompt = user_prompt[:3_000] # Truncate if more than 3,000 characters\n",
    "    return user_prompt\n",
    "\n",
    "def get_french_brochure_user_prompt(company_name, url):\n",
    "    user_prompt = f\"You are looking at a company called: {company_name}\\n\"\n",
    "    user_prompt += f\"Here are the contents of its landing page and other relevant pages; use this information to build a short childrens brochure of the company in french and in markdown.\\n\"\n",
    "    user_prompt += get_all_details(url)\n",
    "    user_prompt = user_prompt[:3_000] # Truncate if more than 3,000 characters\n",
    "    return user_prompt"
   ]
  },
  {
   "cell_type": "code",
   "execution_count": 29,
   "id": "36ad9223-48b8-4cd8-92e1-a8aa6e441182",
   "metadata": {},
   "outputs": [
    {
     "name": "stdout",
     "output_type": "stream",
     "text": [
      "Found links: {'links': [{'type': 'about page', 'url': 'https://www.yeovalley.co.uk/about-us'}, {'type': 'come and visit us page', 'url': 'https://www.yeovalley.co.uk/come-and-visit-us'}, {'type': 'careers page', 'url': 'https://careers.yeovalley.co.uk/'}, {'type': 'recipes page', 'url': 'https://www.yeovalley.co.uk/recipes'}, {'type': 'blog page', 'url': 'https://www.yeovalley.co.uk/blog'}]}\n"
     ]
    },
    {
     "data": {
      "text/plain": [
       "\"You are looking at a company called: Yeovalley\\nHere are the contents of its landing page and other relevant pages; use this information to build a short childrens brochure of the company in markdown.\\nLanding page:\\nWebpage Title:\\nYeo Valley Organic\\nWebpage Contents:\\nSkip to main content\\nIn the valley\\nOur food\\nPlay and win\\nIn the valley\\nOur food\\nPlay and win\\nBank\\nSpend\\nWin\\nBank\\nSpend\\nWin\\nSign up / in\\nWe get nature, you get delicious\\nStart collecting\\nYeokens Today\\nbank\\nspend\\nwin\\nAlmost every Yeo Valley Organic product you buy comes with a special code that you can redeem online for Yeokens. Start collecting today!\\nSign Up / In Now\\nYeokens Yeokens Yeokens Yeokens Yeokens Yeokens Yeokens Yeokens Yeokens Yeokens Yeokens Yeokens\\nLatest from Yeo...\\nFlippin' Delicious\\nOur free-range organic grass-fed British steak beef burgers speak for themselves - tender, succulent, and bursting with flavour.\\nPreparing for weaning and beyond\\nPreparing for weaning can feel overwhelming, but watching your babies’ face as they take their first tastes and the joy that comes with this new and exciting experience is a lot of fun.\\nDoes Yeo Valley use feed additives?\\nYeo Valley Organic does not allow feed additives for the reduction of methane within our supply chain.\\nNice to Meet Yeo: Jade\\nMeet Jade, the newest member of the kitchen team at Yeo Valley!\\nIt's Spring On The Farm\\nAll things spring, what's happening on the farm and seasonal jobs that have to be done and a little information on how spring effects plants and the cows\\nDr Alice's Top Nutritional Tips for Running\\nWhether you're just starting out or training for a marathon, these tips are sure to help you get off on the right foot!\\nThink You Know Yeokens?\\nThis is all you need to know about our Yeokens scheme and any updates that have been happening recently to keep you in the loop!\\nWhat's so good about Kefir?\\nWe started making our Yeo Valley Organic Kefir yogurt range in 2018 and it’s been a customer favourite ever since!\\nRegenerative and Organic, What's the Difference?\\nOutlines the differences between Organic and Regenerative farming written by My Green Pod editor Katie Hill\\nA chance to win a Garmin Watch\\nEnter Yeokens codes found on special promotional pots of our Greek Recipe for your chance to win 1 of 13 Garmin Forerunner 165 running watches.\\nFind out more\\nOrganic Yogurt to Little Yeos\\nMade with the best of British organic dairy and fabulous fruits from near and far, there’s yogurt, milk, cream, butter and a whole lot more for you to try.\\nYogurt\\nKefir\\nLittle Yeos\\nMilk\\nCheese\\nButter\\nCream\\nFrozen\\nSoup\\nBeef\\nPlay, Win, Enjoy\\nPlay our games and you can win prizes... instantly!\\nDairy-Go-Round\\nMonthly Raffle\\nLittle Yeos Raffle\\nYeokens Yeokens Yeokens Yeokens Yeokens Yeokens Yeokens Yeokens Yeokens Yeokens Yeokens Yeokens\\nLatest Rewards\\n25% off at vurchoo jewelery\\nTaste the Adventure - Days Out\\n20% off tickets at the good food show summer\\nThis Month's Featured Challenge\\nReceive a complimentary barista made drink at Caffè Ne\""
      ]
     },
     "execution_count": 29,
     "metadata": {},
     "output_type": "execute_result"
    }
   ],
   "source": [
    "get_brochure_user_prompt(\"Yeovalley\", \"https://www.yeovalley.co.uk/\")"
   ]
  },
  {
   "cell_type": "code",
   "execution_count": 30,
   "id": "d5856bf0-b98b-478d-bee2-fe8613171eaa",
   "metadata": {},
   "outputs": [],
   "source": [
    "def create_brochure(company_name, url):\n",
    "    response = openai.chat.completions.create(\n",
    "        model=MODEL,\n",
    "        messages=[\n",
    "            {\"role\": \"system\", \"content\": system_prompt},\n",
    "            {\"role\": \"user\", \"content\": get_brochure_user_prompt(company_name, url)}\n",
    "          ],\n",
    "    )\n",
    "    result = response.choices[0].message.content\n",
    "    display(Markdown(result))"
   ]
  },
  {
   "cell_type": "code",
   "execution_count": 31,
   "id": "54f2eb56-8c80-4297-97cd-a6107020660f",
   "metadata": {
    "scrolled": true
   },
   "outputs": [
    {
     "name": "stdout",
     "output_type": "stream",
     "text": [
      "Found links: {'links': [{'type': 'about page', 'url': 'https://www.yeovalley.co.uk/about-us'}, {'type': 'come and visit us page', 'url': 'https://www.yeovalley.co.uk/come-and-visit-us'}, {'type': 'careers page', 'url': 'https://careers.yeovalley.co.uk/'}, {'type': 'blog page', 'url': 'https://www.yeovalley.co.uk/blog'}, {'type': 'recipes page', 'url': 'https://www.yeovalley.co.uk/recipes'}, {'type': 'our food page', 'url': 'https://www.yeovalley.co.uk/our-food'}]}\n"
     ]
    },
    {
     "data": {
      "text/markdown": [
       "# Welcome to Yeo Valley Organic!\n",
       "\n",
       "### Howdy, Little Friends!\n",
       "\n",
       "At Yeo Valley Organic, we are all about tasty food that's good for you and good for nature too! From delicious yogurts to scrumptious beef burgers, everything we make comes from happy, free-range animals and the best organic ingredients. Let’s hop in and discover more about our awesome company!\n",
       "\n",
       "---\n",
       "\n",
       "## 🌼 What We Do!\n",
       "\n",
       "**Yummy Food!**  \n",
       "We create lots of tasty products like yogurt, milk, cheese, and even frozen treats! All our goodies are made with organic ingredients, so you can enjoy them with a smile, knowing they are good for the planet!\n",
       "\n",
       "**Our Special Codes!**  \n",
       "Did you know that you can collect **Yeokens**? Every time you buy a Yeo Valley product, there's a secret code on it. You can enter these codes online to collect Yeokens and get cool prizes! \n",
       "\n",
       "**Fun Games & Prizes!**  \n",
       "We love to play! Join us for exciting games where you can win fun surprises. It’s easy peasy and so much fun!\n",
       "\n",
       "---\n",
       "\n",
       "## 🌳 Company Culture\n",
       "\n",
       "At Yeo Valley, we believe in working together like a big happy family! Our team is filled with caring and friendly people, like Jade, who just joined our kitchen team! We support each other and love to share knowledge about healthy and delicious food. Plus, we all work hard to take care of our beautiful farms and animals.\n",
       "\n",
       "---\n",
       "\n",
       "## 🌈 Our Customers\n",
       "\n",
       "We have super special customers, just like you! Families who want yummy snacks that are good for the earth choose Yeo Valley. We hope you join our community to taste the adventure!\n",
       "\n",
       "---\n",
       "\n",
       "## 🌟 Careers at Yeo Valley\n",
       "\n",
       "Have you ever thought about working at a fun place like Yeo Valley? We are always looking for bright sparkly stars to join our team! If you love working with food and care about the planet, Yeo Valley could be the perfect place for you when you grow up!\n",
       "\n",
       "---\n",
       "\n",
       "### 🎉 Join the Yeo Valley Family!\n",
       "\n",
       "Sign up today and start collecting your Yeokens! You can play fun games, enjoy tasty organic snacks, and maybe even win prizes! Getting to know nature and delicious food is a fantastic adventure!\n",
       "\n",
       "Remember, every bite you take is a step towards helping nature thrive! 🌿\n",
       "\n",
       "---\n",
       "\n",
       "**Yeo Valley Organic - We get nature, you get delicious!**  🍦🥛🎈"
      ],
      "text/plain": [
       "<IPython.core.display.Markdown object>"
      ]
     },
     "metadata": {},
     "output_type": "display_data"
    }
   ],
   "source": [
    "create_brochure(\"Yeovalley\", \"https://www.yeovalley.co.uk/\")"
   ]
  },
  {
   "cell_type": "code",
   "execution_count": 40,
   "id": "e051bad9-b27f-4453-9708-43e6e728b5f4",
   "metadata": {},
   "outputs": [],
   "source": [
    "def create_brochure_french(company_name, url):\n",
    "    response = openai.chat.completions.create(\n",
    "        model=MODEL,\n",
    "        messages=[\n",
    "            {\"role\": \"system\", \"content\": system_prompt_French},\n",
    "            {\"role\": \"user\", \"content\": get_french_brochure_user_prompt(company_name, url)}\n",
    "          ],    )\n",
    "    result = response.choices[0].message.content\n",
    "    display(Markdown(result))"
   ]
  },
  {
   "cell_type": "code",
   "execution_count": 41,
   "id": "4a3ba091-67d4-46f0-9fc1-909566e9bb27",
   "metadata": {},
   "outputs": [
    {
     "name": "stdout",
     "output_type": "stream",
     "text": [
      "Found links: {'links': [{'type': 'about page', 'url': 'https://www.yeovalley.co.uk/about-us'}, {'type': 'careers page', 'url': 'https://careers.yeovalley.co.uk/'}, {'type': 'come and visit us page', 'url': 'https://www.yeovalley.co.uk/come-and-visit-us'}, {'type': 'blog page', 'url': 'https://www.yeovalley.co.uk/blog'}, {'type': 'recipes page', 'url': 'https://www.yeovalley.co.uk/recipes'}]}\n"
     ]
    },
    {
     "data": {
      "text/markdown": [
       "# Brochure pour les Enfants : Yeo Valley Organic\n",
       "\n",
       "## Bienvenue à Yeo Valley !\n",
       "\n",
       "### Qu'est-ce que Yeo Valley ?\n",
       "Yeo Valley est une ferme biologique magnifique située dans une vallée verdoyante. Nous produisons les meilleurs produits laitiers biologiques, comme le yaourt, le lait et même des burgers de boeuf savoureux ! Tout est fait avec amour et respect pour la nature.\n",
       "\n",
       "![Image de la ferme Yeo Valley](URL-de-l-image)  \n",
       "\n",
       "### Notre Culture et Équipe\n",
       "Chez Yeo Valley, nous croyons en une ambiance familiale et chaleureuse. Notre équipe est composée de personnes passionnées par la nourriture et l'environnement. Rencontrez Jade, notre nouvelle cuisinière qui lutte pour créer de délicieux plats à partir de nos ingrédients bio.\n",
       "\n",
       "### Nos Clients\n",
       "Nos produits sont appréciés par des milliers de familles qui aiment manger sainement. Que vous soyez un petit Yeos ou un grand Yeos, nous avons des produits pour tout le monde ! Nos yaourts sont faits avec des fruits délicieux et du lait provenant de vaches heureuses qui se promènent sur nos prairies.\n",
       "\n",
       "### Qu'est-ce que les Yeokens ?\n",
       "Saviez-vous que lorsque vous achetez nos produits, vous pouvez collecter des points appelés Yeokens ? Ces points vous permettent de gagner des prix ! Vous pouvez les utiliser pour participer à des jeux, des tirages au sort, et même obtenir des réductions sur d'autres produits. Amusez-vous à les collecter !\n",
       "\n",
       "### Jouez et Gagnez !\n",
       "Nous avons des jeux amusants sur notre site web. Jouez avec nous et vous pourriez gagner des incroyables récompenses, y compris des montres Garmin ! \n",
       "\n",
       "### Pourquoi choisir Yeo Valley ?\n",
       "- **Produits Sains** : Tous nos produits sont biologiques et fabriqués sans additifs.\n",
       "- **Amour pour la Nature** : Nous prenons soin de notre terre et de nos animaux.\n",
       "- **Des occasions de s’amuser !** : Avec Yeo Valley, vous pouvez jouer, gagner et apprendre à propos de la nutrition.\n",
       "\n",
       "### Rejoignez-Nous !\n",
       "Avez-vous déjà pensé à une carrière dans le monde de la cuisine ou de l'agriculture biologique ? Chez Yeo Valley, nous sommes toujours à la recherche de passionnés comme vous pour rejoindre notre équipe dynamique !\n",
       "\n",
       "---\n",
       "\n",
       "### Contactez-Nous\n",
       "Pour en savoir plus sur nos produits ou pour vous impliquer, rendez-vous sur notre site internet : [Yeo Valley Organic](URL-du-site)\n",
       "\n",
       "---\n",
       "\n",
       "Amusez-vous et mangez sainement avec Yeo Valley !"
      ],
      "text/plain": [
       "<IPython.core.display.Markdown object>"
      ]
     },
     "metadata": {},
     "output_type": "display_data"
    }
   ],
   "source": [
    "create_brochure_french(\"Yeovalley\", \"https://www.yeovalley.co.uk/\")"
   ]
  },
  {
   "cell_type": "code",
   "execution_count": null,
   "id": "f244be9d-a83f-49c8-b635-ab5d7034aab3",
   "metadata": {},
   "outputs": [],
   "source": []
  }
 ],
 "metadata": {
  "kernelspec": {
   "display_name": "Python 3 (ipykernel)",
   "language": "python",
   "name": "python3"
  },
  "language_info": {
   "codemirror_mode": {
    "name": "ipython",
    "version": 3
   },
   "file_extension": ".py",
   "mimetype": "text/x-python",
   "name": "python",
   "nbconvert_exporter": "python",
   "pygments_lexer": "ipython3",
   "version": "3.12.4"
  }
 },
 "nbformat": 4,
 "nbformat_minor": 5
}
