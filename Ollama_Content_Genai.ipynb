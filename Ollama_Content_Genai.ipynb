{
 "cells": [
  {
   "cell_type": "code",
   "execution_count": 1,
   "id": "ac50a90b-f989-49b9-bc3f-83a4c9077bbd",
   "metadata": {},
   "outputs": [],
   "source": [
    "# imports\n",
    "# If these fail, please check you're running from an 'activated' environment with (llms) in the command prompt\n",
    "\n",
    "import os\n",
    "import requests\n",
    "import json\n",
    "from typing import List\n",
    "from dotenv import load_dotenv\n",
    "from bs4 import BeautifulSoup\n",
    "from IPython.display import Markdown, display, update_display\n",
    "from openai import OpenAI"
   ]
  },
  {
   "cell_type": "code",
   "execution_count": 2,
   "id": "002791b3-7581-4c65-b7c4-3dfb5210e9f2",
   "metadata": {},
   "outputs": [
    {
     "name": "stdout",
     "output_type": "stream",
     "text": [
      "API key looks good so far\n"
     ]
    }
   ],
   "source": [
    "# Initialize and constants\n",
    "\n",
    "load_dotenv(override=True)\n",
    "api_key = os.getenv('OPENAI_API_KEY')\n",
    "\n",
    "if api_key and api_key.startswith('sk-proj-') and len(api_key)>10:\n",
    "    print(\"API key looks good so far\")\n",
    "else:\n",
    "    print(\"There might be a problem with your API key? Please visit the troubleshooting notebook!\")\n",
    "    \n",
    "MODEL = 'gpt-4o-mini'\n",
    "openai = OpenAI()"
   ]
  },
  {
   "cell_type": "code",
   "execution_count": 10,
   "id": "d3e55093-7cea-473e-b9d0-b99cef1440de",
   "metadata": {},
   "outputs": [],
   "source": [
    "# A class to represent a Webpage\n",
    "\n",
    "# Some websites need you to use proper headers when fetching them:\n",
    "headers = {\n",
    " \"User-Agent\": \"Mozilla/5.0 (Windows NT 10.0; Win64; x64) AppleWebKit/537.36 (KHTML, like Gecko) Chrome/117.0.0.0 Safari/537.36\"\n",
    "}\n",
    "\n",
    "class scrapeWebsite:\n",
    "    \"\"\"\n",
    "    A utility class to represent a Website that we have scraped, now with links\n",
    "    \"\"\"\n",
    "\n",
    "    def __init__(self, url):\n",
    "        self.url = url\n",
    "        response = requests.get(url, headers=headers)\n",
    "        self.body = response.content\n",
    "        soup = BeautifulSoup(self.body, 'html.parser')\n",
    "        self.title = soup.title.string if soup.title else \"No title found\"\n",
    "        if soup.body:\n",
    "            for irrelevant in soup.body([\"script\", \"style\", \"img\", \"input\"]):\n",
    "                irrelevant.decompose()\n",
    "            self.text = soup.body.get_text(separator=\"\\n\", strip=True)\n",
    "        else:\n",
    "            self.text = \"\"\n",
    "        links = [link.get('href') for link in soup.find_all('a')]\n",
    "        self.links = [link for link in links if link]\n",
    "\n",
    "    #get webpage Title and Page content\n",
    "    def get_contents(self):\n",
    "        return f\"Webpage Title:\\n{self.title}\\nWebpage Contents:\\n{self.text}\\n\\n\""
   ]
  },
  {
   "cell_type": "code",
   "execution_count": 11,
   "id": "58e574a0-751d-44b8-acb5-68842f80baa0",
   "metadata": {},
   "outputs": [],
   "source": [
    "link_system_prompt = \"You are provided with a list of links found on a webpage. \\\n",
    "You are able to decide which of the links would be most relevant to include in a childrens broucher about the company, \\\n",
    "such as links to an About page, or a Company page, or Careers/Jobs pages.\\n\"\n",
    "\n",
    "link_system_prompt += \"You should respond in JSON as in this example:\"\n",
    "link_system_prompt += \"\"\"\n",
    "{\n",
    "    \"links\": [\n",
    "        {\"type\": \"about page\", \"url\": \"https://full.url/goes/here/about\"},\n",
    "        {\"type\": \"careers page\": \"url\": \"https://another.full.url/careers\"}\n",
    "    ]\n",
    "}\n",
    "\"\"\""
   ]
  },
  {
   "cell_type": "code",
   "execution_count": 12,
   "id": "a9dc3b85-309b-411e-b18e-31aae06bdf74",
   "metadata": {},
   "outputs": [
    {
     "name": "stdout",
     "output_type": "stream",
     "text": [
      "You are provided with a list of links found on a webpage. You are able to decide which of the links would be most relevant to include in a childrens broucher about the company, such as links to an About page, or a Company page, or Careers/Jobs pages.\n",
      "You should respond in JSON as in this example:\n",
      "{\n",
      "    \"links\": [\n",
      "        {\"type\": \"about page\", \"url\": \"https://full.url/goes/here/about\"},\n",
      "        {\"type\": \"careers page\": \"url\": \"https://another.full.url/careers\"}\n",
      "    ]\n",
      "}\n",
      "\n"
     ]
    }
   ],
   "source": [
    "print(link_system_prompt)"
   ]
  },
  {
   "cell_type": "code",
   "execution_count": 16,
   "id": "c827a113-6335-4ebd-bf46-befc14cb57dc",
   "metadata": {},
   "outputs": [],
   "source": [
    "#Get Links User prompt\n",
    "\n",
    "def get_links_user_prompt(website):\n",
    "    user_prompt = f\"Here is the list of links on the website of {website.url} - \"\n",
    "    user_prompt += \"please decide which of these are relevant web links for a childrens brochure about the company, respond with the full https URL in JSON format. \\\n",
    "    Do not include Terms of Service, Contact, Privacy pages or links and email links.\\n\"\n",
    "    user_prompt += \"Links (some might be relative links):\\n\"\n",
    "    user_prompt += \"\\n\".join(website.links)\n",
    "    return user_prompt"
   ]
  },
  {
   "cell_type": "code",
   "execution_count": 18,
   "id": "1d149696-443f-4041-9701-8bbe3e710dd7",
   "metadata": {},
   "outputs": [
    {
     "data": {
      "text/plain": [
       "['/',\n",
       " '/',\n",
       " '/all-our-brands/',\n",
       " '/sustainability/',\n",
       " '/sustainability/the-food/',\n",
       " '/sustainability/the-packaging/',\n",
       " '/sustainability/the-transport/',\n",
       " '/sustainability/the-dairies/',\n",
       " '/sustainability/the-farms/',\n",
       " '/sustainability/the-cows/',\n",
       " '/sustainability/the-land/',\n",
       " '/sustainability/arlas-climate-ambition/',\n",
       " '/sustainability/lets-talk-about-dairy/',\n",
       " '/company/investor/annual-reports/',\n",
       " '/company/arla-farmers/farm-ahead/',\n",
       " '/company/',\n",
       " '/sustainability/',\n",
       " '/sustainability/the-farms/arlas-sustainability-incentive-model-qa/',\n",
       " 'https://ec.europa.eu/clima/policies/international/negotiations/paris_en',\n",
       " 'https://www.arla.com/company/news-and-press/2022/pressrelease/arla-doubles-co2e-target-for-operations/',\n",
       " '/sustainability/the-farms/how-arla-farmers-reduce-dairys-carbon-footprint/',\n",
       " '/sustainability/lets-talk-about-dairy/',\n",
       " '/company/news-and-press/2025/pressrelease/creating-the-future-of-dairy-arla-foods-and-dmk-group-announce-intention-to-merge/',\n",
       " 'https://www.arla.com/company/news-and-press/2025/pressrelease/arla-foods-achieves-strong-financial-performance-in-2024/',\n",
       " 'https://www.arla.com/company/news-and-press/2024/pressrelease/half-year-results-2024-arlas-robust-first-half-of-2024-is-paving-the-way-for-enhanced-sustainability-efforts/',\n",
       " 'https://www.arla.com/company/news-and-press/2022/pressrelease/arla-earmarks-up-to-500-meur-annually-for-rewarding-climate-activities-on-farm/',\n",
       " '/company/farmer-owned/',\n",
       " '/articles/what-is-the-role-of-bacteria-in-yoghurt-and-fermented-milk-products/',\n",
       " '/articles/what-is-lactic-acid-fermentation-and-how-does-it-work/',\n",
       " '/articles/how-are-dairy-cows-treated/',\n",
       " '/articles/what-is-animal-welfare-in-milk-production/',\n",
       " '/articles/how-to-eat-more-sustainably/',\n",
       " '/articles/is-milk-good-for-you-info/',\n",
       " '/articles/can-you-drink-too-much-milk-info/',\n",
       " '/articles/are-plant-based-milk-alternatives-better-for-you-info/',\n",
       " '/articles/lactose-intolerance-cause-and-symptoms-info/',\n",
       " '/articles/what-is-milk-allergy-info/',\n",
       " '/articles/is-yogurt-healthy-info/',\n",
       " '/articles/milk-nutrition-facts-calcium-protein-and-calories-in-milk-info/',\n",
       " '/articles/what-is-lactose-free-milk-and-how-does-it-work/',\n",
       " '/articles/is-cheese-good-for-you-info/',\n",
       " '/articles/is-butter-healthy-info/',\n",
       " '/all-our-brands/',\n",
       " '/our-brands/arla-protein/',\n",
       " '/our-brands/arla-protein/',\n",
       " '/our-brands/arla-protein/',\n",
       " '/company/strategy/',\n",
       " 'tel:+45 89 38 1000',\n",
       " '/contact/',\n",
       " 'http://www.arlafoodsingredients.com/',\n",
       " 'http://www.castellocheese.com/',\n",
       " 'https://www.lurpak.com/en/',\n",
       " '/contact/arla-in-other-countries/',\n",
       " 'https://www.facebook.com/arla',\n",
       " 'https://www.instagram.com/inside_arla/?hl=en',\n",
       " 'https://twitter.com/ArlaGroup',\n",
       " 'https://www.linkedin.com/company/arla-foods?trk=top_nav_home',\n",
       " '#',\n",
       " '/legal-information/cookie-policy/',\n",
       " '/legal-information/standard-terms-of-website-use/',\n",
       " '/legal-information/privacy-policy/']"
      ]
     },
     "execution_count": 18,
     "metadata": {},
     "output_type": "execute_result"
    }
   ],
   "source": [
    "pages = scrapeWebsite(\"https://www.arla.com/\")\n",
    "pages.links\n",
    "get_links_user_prompt("
   ]
  },
  {
   "cell_type": "code",
   "execution_count": null,
   "id": "5c5f7392-1ed9-4ea7-8176-6ecd9f8e8033",
   "metadata": {},
   "outputs": [],
   "source": []
  }
 ],
 "metadata": {
  "kernelspec": {
   "display_name": "Python 3 (ipykernel)",
   "language": "python",
   "name": "python3"
  },
  "language_info": {
   "codemirror_mode": {
    "name": "ipython",
    "version": 3
   },
   "file_extension": ".py",
   "mimetype": "text/x-python",
   "name": "python",
   "nbconvert_exporter": "python",
   "pygments_lexer": "ipython3",
   "version": "3.12.4"
  }
 },
 "nbformat": 4,
 "nbformat_minor": 5
}
